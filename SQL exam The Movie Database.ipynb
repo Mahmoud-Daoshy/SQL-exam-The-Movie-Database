{
 "cells": [
  {
   "cell_type": "markdown",
   "id": "bf17eebd",
   "metadata": {},
   "source": [
    "<div align=\"right\" style=\" font-size: 80%; text-align: center; margin: 0 auto\">\n",
    "<img src=\"https://raw.githubusercontent.com/Explore-AI/Pictures/master/ExploreAI_logos/Logo blue_dark.png\"  style=\"width:25px\" align=\"right\";/>\n",
    "</div>"
   ]
  },
  {
   "cell_type": "markdown",
   "id": "f662d169",
   "metadata": {},
   "source": [
    "# SQL Exam\n",
    "© ExploreAI Academy"
   ]
  },
  {
   "cell_type": "markdown",
   "id": "26af890c",
   "metadata": {},
   "source": [
    "## Instructions to students\n",
    "\n",
    "This challenge is designed to determine how much you have learned so far and will test your knowledge on SQL.\n",
    "\n",
    "The answers for this challenge should be selected on Athena for each corresponding multiple-choice question. The questions are included in this notebook and are numbered according to the Athena questions. The options for each question have also been included.\n",
    "\n",
    "Do not add or remove cells in this notebook. Do not edit or remove the `%%sql` comment as it is required to run each cell.\n",
    "\n",
    "**_Good luck!_**"
   ]
  },
  {
   "cell_type": "markdown",
   "id": "092d3f5e",
   "metadata": {},
   "source": [
    "## Honour code\n",
    "\n",
    "I, YOUR NAME YOUR SURNAME, confirm – by submitting this document – that the solutions in this notebook are a result of my own work and that I abide by the EDSA honour code (https://drive.google.com/file/d/1QDCjGZJ8-FmJE3bZdIQNwnJyQKPhHZBn/view?usp=sharing).\n",
    "\n",
    "Non-compliance with the honour code constitutes a material breach of contract."
   ]
  },
  {
   "cell_type": "markdown",
   "id": "b6bdd20c",
   "metadata": {},
   "source": [
    "## The TMDb database\n",
    "\n",
    "In this supplementary exam, you will be exploring [The Movie Database](https://www.themoviedb.org/) – an online movie and TV show database that houses some of the most popular movies and TV shows at your fingertips. The TMDb database supports 39 official languages used in over 180 countries daily and dates back all the way to 2008. \n",
    "\n",
    "\n",
    "<img src=\"https://github.com/Explore-AI/Pictures/blob/master/sql_tmdb.jpg?raw=true\" width=80%/>\n",
    "\n",
    "\n",
    "Below is an Entity Relationship Diagram (ERD) of the TMDb database:\n",
    "\n",
    "<img src=\"https://github.com/Explore-AI/Pictures/blob/master/TMDB_ER_diagram.png?raw=true\" width=70%/>\n",
    "\n",
    "As can be seen from the ERD, the TMDb database consists of `12 tables` containing information about movies, cast, genre, and so much more.  \n",
    "\n",
    "Let's get started!"
   ]
  },
  {
   "cell_type": "markdown",
   "id": "5a0b7683",
   "metadata": {
    "tags": []
   },
   "source": [
    "## Loading the database\n",
    "\n",
    "Before you begin, you need to prepare your SQL environment.  You can do this by loading the magic command `%load_ext sql`."
   ]
  },
  {
   "cell_type": "code",
   "execution_count": 1,
   "id": "0f34ea72",
   "metadata": {},
   "outputs": [],
   "source": [
    "# Load and activate the SQL extension to allow us to execute SQL in a Jupyter notebook. \n",
    "# If you get an error here, make sure that mysql and pymysql are installed correctly. \n",
    "\n",
    "%load_ext sql"
   ]
  },
  {
   "cell_type": "markdown",
   "id": "3f78b691",
   "metadata": {},
   "source": [
    "Next, go ahead and load your database. To do this, you will need to ensure you have downloaded the `TMDB.db` sqlite file from Athena and have stored it in a known location."
   ]
  },
  {
   "cell_type": "code",
   "execution_count": 2,
   "id": "d279a04d",
   "metadata": {},
   "outputs": [
    {
     "data": {
      "text/plain": [
       "'Connected: @TMDB-a-4006.db'"
      ]
     },
     "execution_count": 2,
     "metadata": {},
     "output_type": "execute_result"
    }
   ],
   "source": [
    "# Establish a connection to the local database using the '%sql' magic command.\n",
    "# Replace 'password' with our connection password and `db_name` with our database name. \n",
    "# If you get an error here, please make sure the database name or password is correct.\n",
    "\n",
    "%sql sqlite:///TMDB-a-4006.db"
   ]
  },
  {
   "cell_type": "markdown",
   "id": "6f8bbc0b-c31c-4274-ad13-399a9182a260",
   "metadata": {},
   "source": [
    "If the above line didn't throw out any errors, then you should be good to go. Good luck with the exam! "
   ]
  },
  {
   "cell_type": "markdown",
   "id": "f5ed5285",
   "metadata": {},
   "source": [
    "## Questions on SQL\n",
    "\n",
    "Use the given cell below each question to execute your SQL queries to find the correct input from the options provided. Your solution should match one of the multiple-choice questions on Athena."
   ]
  },
  {
   "cell_type": "markdown",
   "id": "86802726",
   "metadata": {},
   "source": [
    "### Question 1\n",
    "\n",
    "Who won the Oscar for “Actor in a Leading Role” in  2015?\n",
    "\n",
    "(Hint: The winner is indicated as '1.0'.)\n",
    "\n",
    "**Options:** \n",
    "\n",
    "  - Micheal Fassbender\n",
    "  - Natalie Portman\n",
    "  - Leonardo DiCaprio\n",
    "  - Eddie Redmayne\n"
   ]
  },
  {
   "cell_type": "code",
   "execution_count": 3,
   "id": "91f3421f",
   "metadata": {},
   "outputs": [
    {
     "name": "stdout",
     "output_type": "stream",
     "text": [
      " * sqlite:///TMDB-a-4006.db\n",
      "Done.\n"
     ]
    },
    {
     "data": {
      "text/html": [
       "<table>\n",
       "    <thead>\n",
       "        <tr>\n",
       "            <th>year</th>\n",
       "            <th>award</th>\n",
       "            <th>winner</th>\n",
       "            <th>name</th>\n",
       "            <th>film</th>\n",
       "        </tr>\n",
       "    </thead>\n",
       "    <tbody>\n",
       "        <tr>\n",
       "            <td>2015</td>\n",
       "            <td>Actor in a Leading Role</td>\n",
       "            <td>1.0</td>\n",
       "            <td>Leonardo DiCaprio</td>\n",
       "            <td>The Revenant</td>\n",
       "        </tr>\n",
       "    </tbody>\n",
       "</table>"
      ],
      "text/plain": [
       "[('2015', 'Actor in a Leading Role', '1.0', 'Leonardo DiCaprio', 'The Revenant')]"
      ]
     },
     "execution_count": 3,
     "metadata": {},
     "output_type": "execute_result"
    }
   ],
   "source": [
    "%%sql\n",
    "SELECT\n",
    "    *\n",
    "FROM\n",
    "    oscars\n",
    "WHERE\n",
    "    year = '2015'\n",
    "AND award = 'Actor in a Leading Role'\n",
    "AND winner = '1.0'"
   ]
  },
  {
   "cell_type": "markdown",
   "id": "9545206c",
   "metadata": {},
   "source": [
    "### Question 2\n",
    "\n",
    "What query will produce the ten oldest movies in the database?\n",
    "\n",
    "**Options:**\n",
    "\n",
    " - SELECT TOP(10) * FROM movies WHERE release_date ORDER BY release_date ASC\n",
    "\n",
    " - SELECT  * FROM movies WHERE release_date IS NOT NULL ORDER BY release_date ASC LIMIT 10\n",
    "\n",
    " - SELECT * FROM movies WHERE release_date IS NOT NULL ORDER BY release_date DESC LIMIT 10\n",
    "\n",
    " -  SELECT * FROM movies WHERE release_date IS NULL ORDER BY release_date DESC LIMIT 10"
   ]
  },
  {
   "cell_type": "code",
   "execution_count": 4,
   "id": "748f4263",
   "metadata": {},
   "outputs": [
    {
     "name": "stdout",
     "output_type": "stream",
     "text": [
      " * sqlite:///TMDB-a-4006.db\n",
      "Done.\n"
     ]
    },
    {
     "data": {
      "text/html": [
       "<table>\n",
       "    <thead>\n",
       "        <tr>\n",
       "            <th>movie_id</th>\n",
       "            <th>title</th>\n",
       "            <th>release_date</th>\n",
       "            <th>budget</th>\n",
       "            <th>homepage</th>\n",
       "            <th>original_language</th>\n",
       "            <th>original_title</th>\n",
       "            <th>overview</th>\n",
       "            <th>popularity</th>\n",
       "            <th>revenue</th>\n",
       "            <th>runtime</th>\n",
       "            <th>release_status</th>\n",
       "            <th>tagline</th>\n",
       "            <th>vote_average</th>\n",
       "            <th>vote_count</th>\n",
       "        </tr>\n",
       "    </thead>\n",
       "    <tbody>\n",
       "        <tr>\n",
       "            <td>3059</td>\n",
       "            <td>Intolerance</td>\n",
       "            <td>1916-09-04 00:00:00.000000</td>\n",
       "            <td>385907</td>\n",
       "            <td>None</td>\n",
       "            <td>en</td>\n",
       "            <td>Intolerance</td>\n",
       "            <td>The story of a poor young woman, separated by prejudice from her husband and baby, is interwoven with tales of intolerance from throughout history.</td>\n",
       "            <td>3.232447</td>\n",
       "            <td>8394751.0</td>\n",
       "            <td>197.0</td>\n",
       "            <td>Released</td>\n",
       "            <td>The Cruel Hand of Intolerance</td>\n",
       "            <td>7.4</td>\n",
       "            <td>60</td>\n",
       "        </tr>\n",
       "        <tr>\n",
       "            <td>3060</td>\n",
       "            <td>The Big Parade</td>\n",
       "            <td>1925-11-05 00:00:00.000000</td>\n",
       "            <td>245000</td>\n",
       "            <td>None</td>\n",
       "            <td>en</td>\n",
       "            <td>The Big Parade</td>\n",
       "            <td>The story of an idle rich boy who joins the US Army&#x27;s Rainbow Division and is sent to France to fight in World War I, becomes friends with two working class men, experiences the horrors of trench warfare, and finds love with a French girl.</td>\n",
       "            <td>0.785744</td>\n",
       "            <td>22000000.0</td>\n",
       "            <td>151.0</td>\n",
       "            <td>Released</td>\n",
       "            <td>None</td>\n",
       "            <td>7.0</td>\n",
       "            <td>21</td>\n",
       "        </tr>\n",
       "        <tr>\n",
       "            <td>19</td>\n",
       "            <td>Metropolis</td>\n",
       "            <td>1927-01-10 00:00:00.000000</td>\n",
       "            <td>92620000</td>\n",
       "            <td>None</td>\n",
       "            <td>de</td>\n",
       "            <td>Metropolis</td>\n",
       "            <td>In a futuristic city sharply divided between the working class and the city planners, the son of the city&#x27;s mastermind falls in love with a working class prophet who predicts the coming of a savior to mediate their differences.</td>\n",
       "            <td>32.351527</td>\n",
       "            <td>650422.0</td>\n",
       "            <td>153.0</td>\n",
       "            <td>Released</td>\n",
       "            <td>There can be no understanding between the hands and the brain unless the heart acts as mediator.</td>\n",
       "            <td>8.0</td>\n",
       "            <td>657</td>\n",
       "        </tr>\n",
       "        <tr>\n",
       "            <td>905</td>\n",
       "            <td>Pandora&#x27;s Box</td>\n",
       "            <td>1929-01-30 00:00:00.000000</td>\n",
       "            <td>0</td>\n",
       "            <td>None</td>\n",
       "            <td>de</td>\n",
       "            <td>Die Bnchse der Pandora</td>\n",
       "            <td>The rise and inevitable fall of an amoral but naive young woman whose insouciant eroticism inspires lust and violence in those around her.</td>\n",
       "            <td>1.824184</td>\n",
       "            <td>0.0</td>\n",
       "            <td>109.0</td>\n",
       "            <td>Released</td>\n",
       "            <td>None</td>\n",
       "            <td>7.6</td>\n",
       "            <td>45</td>\n",
       "        </tr>\n",
       "        <tr>\n",
       "            <td>65203</td>\n",
       "            <td>The Broadway Melody</td>\n",
       "            <td>1929-02-08 00:00:00.000000</td>\n",
       "            <td>379000</td>\n",
       "            <td>None</td>\n",
       "            <td>en</td>\n",
       "            <td>The Broadway Melody</td>\n",
       "            <td>Harriet and Queenie Mahoney, a vaudeville act, come to Broadway, where their friend Eddie Kerns needs them for his number in one of Francis Zanfield&#x27;s shows. Eddie was in love with Harriet, but when he meets Queenie, he falls in love to her, but she is courted by Jock Warriner, a member of the New Yorker high society. It takes a while till Queenie recognizes, that she is for Jock nothing more than a toy, and it also takes a while till Harriet recognizes, that Eddie is in love with Queenie</td>\n",
       "            <td>0.968865</td>\n",
       "            <td>4358000.0</td>\n",
       "            <td>100.0</td>\n",
       "            <td>Released</td>\n",
       "            <td>The pulsating drama of Broadway&#x27;s bared heart speaks and sings with a voice to stir your soul!</td>\n",
       "            <td>5.0</td>\n",
       "            <td>19</td>\n",
       "        </tr>\n",
       "        <tr>\n",
       "            <td>22301</td>\n",
       "            <td>Hell&#x27;s Angels</td>\n",
       "            <td>1930-11-15 00:00:00.000000</td>\n",
       "            <td>3950000</td>\n",
       "            <td>None</td>\n",
       "            <td>en</td>\n",
       "            <td>Hell&#x27;s Angels</td>\n",
       "            <td>Two brothers attending Oxford enlist with the Royal Flying Corps when World War I breaks out. Roy and Monte Rutledge have very different personalities. Monte is a freewheeling womanizer, even with his brother&#x27;s girlfriend Helen. He also proves to have a yellow streak when it comes to his Night Patrol duties. Roy is made of strong moral fiber and attempts to keep his brother in line. Both volunteer for an extremely risky two man bombing mission for different reasons. Monte wants to lose his cowardly reputation and Roy seeks to protect his brother. Roy loves Helen; Helen enjoys an affair with Monte; before they leave on their mission over Germany they find her in still another man&#x27;s arms.  Their assignment to knock out a strategic German munitions facility is a booming success, but with a squadron of fighters bearing down on them afterwards, escape seems unlikely.</td>\n",
       "            <td>8.484123</td>\n",
       "            <td>8000000.0</td>\n",
       "            <td>127.0</td>\n",
       "            <td>Released</td>\n",
       "            <td>Howard Hughes&#x27; Thrilling Multi-Million Dollar Air Spectacle</td>\n",
       "            <td>6.1</td>\n",
       "            <td>19</td>\n",
       "        </tr>\n",
       "        <tr>\n",
       "            <td>22649</td>\n",
       "            <td>A Farewell to Arms</td>\n",
       "            <td>1932-12-08 00:00:00.000000</td>\n",
       "            <td>4</td>\n",
       "            <td>None</td>\n",
       "            <td>en</td>\n",
       "            <td>A Farewell to Arms</td>\n",
       "            <td>British nurse Catherine Barkley (Helen Hayes) and American Lieutenant Frederic Henry (Gary Cooper) fall in love during the First World War in Italy. Eventually separated by Frederic&#x27;s transfer, tremendous challenges and difficult decisions face each, as the war rages on. Academy Awards winner for Best Cinematography and for Best Sound, Recording. Nominated for Best Picture and for Best Art Direction.</td>\n",
       "            <td>1.199451</td>\n",
       "            <td>25.0</td>\n",
       "            <td>89.0</td>\n",
       "            <td>Released</td>\n",
       "            <td>Every woman who has loved will understand</td>\n",
       "            <td>6.2</td>\n",
       "            <td>28</td>\n",
       "        </tr>\n",
       "        <tr>\n",
       "            <td>3062</td>\n",
       "            <td>42nd Street</td>\n",
       "            <td>1933-02-02 00:00:00.000000</td>\n",
       "            <td>439000</td>\n",
       "            <td>None</td>\n",
       "            <td>en</td>\n",
       "            <td>42nd Street</td>\n",
       "            <td>A producer puts on what may be his last Broadway show, and at the last moment a chorus girl has to replace the star.</td>\n",
       "            <td>1.933366</td>\n",
       "            <td>2281000.0</td>\n",
       "            <td>89.0</td>\n",
       "            <td>Released</td>\n",
       "            <td>None</td>\n",
       "            <td>6.1</td>\n",
       "            <td>37</td>\n",
       "        </tr>\n",
       "        <tr>\n",
       "            <td>43595</td>\n",
       "            <td>She Done Him Wrong</td>\n",
       "            <td>1933-02-09 00:00:00.000000</td>\n",
       "            <td>200000</td>\n",
       "            <td>None</td>\n",
       "            <td>en</td>\n",
       "            <td>She Done Him Wrong</td>\n",
       "            <td>&quot;New York singer and nightclub owner Lady Lou has more men friends than you can imagine. Unfortunately one of them is a vicious criminal who&#x27;s escaped and is on the way to see &quot;&quot;his&quot;&quot; girl, not realising she hasn&#x27;t exactly been faithful in his absence. Help is at hand in the form of young Captain Cummings a local temperance league leader though.&quot;</td>\n",
       "            <td>0.622752</td>\n",
       "            <td>2200000.0</td>\n",
       "            <td>66.0</td>\n",
       "            <td>Released</td>\n",
       "            <td>Mae West gives a &#x27;Hot Time&#x27; to the nation!</td>\n",
       "            <td>5.1</td>\n",
       "            <td>27</td>\n",
       "        </tr>\n",
       "        <tr>\n",
       "            <td>3078</td>\n",
       "            <td>It Happened One Night</td>\n",
       "            <td>1934-02-22 00:00:00.000000</td>\n",
       "            <td>325000</td>\n",
       "            <td>None</td>\n",
       "            <td>en</td>\n",
       "            <td>It Happened One Night</td>\n",
       "            <td>Ellie Andrews has just tied the knot with society aviator King Westley when she is whisked away to her father&#x27;s yacht and out of King&#x27;s clutches. Ellie jumps ship and eventually winds up on a bus headed back to her husband. Reluctantly she must accept the help of out-of- work reporter Peter Warne. Actually, Warne doesn&#x27;t give her any choice: either she sticks with him until he gets her back to her husband, or he&#x27;ll blow the whistle on Ellie to her father. Either way, Peter gets what he wants... a really juicy newspaper story!</td>\n",
       "            <td>11.871424</td>\n",
       "            <td>4500000.0</td>\n",
       "            <td>105.0</td>\n",
       "            <td>Released</td>\n",
       "            <td>TOGETHER... for the first time</td>\n",
       "            <td>7.7</td>\n",
       "            <td>275</td>\n",
       "        </tr>\n",
       "    </tbody>\n",
       "</table>"
      ],
      "text/plain": [
       "[(3059, 'Intolerance', '1916-09-04 00:00:00.000000', 385907, None, 'en', 'Intolerance', 'The story of a poor young woman, separated by prejudice from her husband and baby, is interwoven with tales of intolerance from throughout history.', 3.232447, 8394751.0, 197.0, 'Released', 'The Cruel Hand of Intolerance', 7.4, 60),\n",
       " (3060, 'The Big Parade', '1925-11-05 00:00:00.000000', 245000, None, 'en', 'The Big Parade', \"The story of an idle rich boy who joins the US Army's Rainbow Division and is sent to France to fight in World War I, becomes friends with two working class men, experiences the horrors of trench warfare, and finds love with a French girl.\", 0.785744, 22000000.0, 151.0, 'Released', None, 7.0, 21),\n",
       " (19, 'Metropolis', '1927-01-10 00:00:00.000000', 92620000, None, 'de', 'Metropolis', \"In a futuristic city sharply divided between the working class and the city planners, the son of the city's mastermind falls in love with a working class prophet who predicts the coming of a savior to mediate their differences.\", 32.351527, 650422.0, 153.0, 'Released', 'There can be no understanding between the hands and the brain unless the heart acts as mediator.', 8.0, 657),\n",
       " (905, \"Pandora's Box\", '1929-01-30 00:00:00.000000', 0, None, 'de', 'Die Bnchse der Pandora', 'The rise and inevitable fall of an amoral but naive young woman whose insouciant eroticism inspires lust and violence in those around her.', 1.824184, 0.0, 109.0, 'Released', None, 7.6, 45),\n",
       " (65203, 'The Broadway Melody', '1929-02-08 00:00:00.000000', 379000, None, 'en', 'The Broadway Melody', \"Harriet and Queenie Mahoney, a vaudeville act, come to Broadway, where their friend Eddie Kerns needs them for his number in one of Francis Zanfield' ... (195 characters truncated) ... eenie recognizes, that she is for Jock nothing more than a toy, and it also takes a while till Harriet recognizes, that Eddie is in love with Queenie\", 0.968865, 4358000.0, 100.0, 'Released', \"The pulsating drama of Broadway's bared heart speaks and sings with a voice to stir your soul!\", 5.0, 19),\n",
       " (22301, \"Hell's Angels\", '1930-11-15 00:00:00.000000', 3950000, None, 'en', \"Hell's Angels\", \"Two brothers attending Oxford enlist with the Royal Flying Corps when World War I breaks out. Roy and Monte Rutledge have very different personalitie ... (576 characters truncated) ... t a strategic German munitions facility is a booming success, but with a squadron of fighters bearing down on them afterwards, escape seems unlikely.\", 8.484123, 8000000.0, 127.0, 'Released', \"Howard Hughes' Thrilling Multi-Million Dollar Air Spectacle\", 6.1, 19),\n",
       " (22649, 'A Farewell to Arms', '1932-12-08 00:00:00.000000', 4, None, 'en', 'A Farewell to Arms', \"British nurse Catherine Barkley (Helen Hayes) and American Lieutenant Frederic Henry (Gary Cooper) fall in love during the First World War in Italy.  ... (105 characters truncated) ... the war rages on. Academy Awards winner for Best Cinematography and for Best Sound, Recording. Nominated for Best Picture and for Best Art Direction.\", 1.199451, 25.0, 89.0, 'Released', 'Every woman who has loved will understand', 6.2, 28),\n",
       " (3062, '42nd Street', '1933-02-02 00:00:00.000000', 439000, None, 'en', '42nd Street', 'A producer puts on what may be his last Broadway show, and at the last moment a chorus girl has to replace the star.', 1.933366, 2281000.0, 89.0, 'Released', None, 6.1, 37),\n",
       " (43595, 'She Done Him Wrong', '1933-02-09 00:00:00.000000', 200000, None, 'en', 'She Done Him Wrong', '\"New York singer and nightclub owner Lady Lou has more men friends than you can imagine. Unfortunately one of them is a vicious criminal who\\'s escap ... (52 characters truncated) ... ing she hasn\\'t exactly been faithful in his absence. Help is at hand in the form of young Captain Cummings a local temperance league leader though.\"', 0.622752, 2200000.0, 66.0, 'Released', \"Mae West gives a 'Hot Time' to the nation!\", 5.1, 27),\n",
       " (3078, 'It Happened One Night', '1934-02-22 00:00:00.000000', 325000, None, 'en', 'It Happened One Night', \"Ellie Andrews has just tied the knot with society aviator King Westley when she is whisked away to her father's yacht and out of King's clutches. Ell ... (233 characters truncated) ... ts her back to her husband, or he'll blow the whistle on Ellie to her father. Either way, Peter gets what he wants... a really juicy newspaper story!\", 11.871424, 4500000.0, 105.0, 'Released', 'TOGETHER... for the first time', 7.7, 275)]"
      ]
     },
     "execution_count": 4,
     "metadata": {},
     "output_type": "execute_result"
    }
   ],
   "source": [
    "%%sql\n",
    "SELECT  * FROM movies WHERE release_date IS NOT NULL ORDER BY release_date ASC LIMIT 10\n"
   ]
  },
  {
   "cell_type": "markdown",
   "id": "79dc3d5f",
   "metadata": {},
   "source": [
    "### Question 3\n",
    "\n",
    "How many unique awards are there in the Oscars table?\n",
    "\n",
    "**Options:**\n",
    " - 141\n",
    " - 53 \n",
    " - 80\n",
    " - 114"
   ]
  },
  {
   "cell_type": "code",
   "execution_count": 5,
   "id": "f4621a53",
   "metadata": {},
   "outputs": [
    {
     "name": "stdout",
     "output_type": "stream",
     "text": [
      " * sqlite:///TMDB-a-4006.db\n",
      "Done.\n"
     ]
    },
    {
     "data": {
      "text/html": [
       "<table>\n",
       "    <thead>\n",
       "        <tr>\n",
       "            <th>unique_awards_in_Oscars</th>\n",
       "        </tr>\n",
       "    </thead>\n",
       "    <tbody>\n",
       "        <tr>\n",
       "            <td>114</td>\n",
       "        </tr>\n",
       "    </tbody>\n",
       "</table>"
      ],
      "text/plain": [
       "[(114,)]"
      ]
     },
     "execution_count": 5,
     "metadata": {},
     "output_type": "execute_result"
    }
   ],
   "source": [
    "%%sql\n",
    "SELECT\n",
    "    COUNT(DISTINCT(award)) as unique_awards_in_Oscars\n",
    "FROM\n",
    "    oscars;"
   ]
  },
  {
   "cell_type": "markdown",
   "id": "a8b06373",
   "metadata": {},
   "source": [
    "### Question 4\n",
    "\n",
    "How many movies are there that contain the word “Spider” within their title?\n",
    "\n",
    "**Options:**\n",
    " - 0\n",
    " - 5\n",
    " - 1\n",
    " - 9"
   ]
  },
  {
   "cell_type": "code",
   "execution_count": 6,
   "id": "1e003247",
   "metadata": {},
   "outputs": [
    {
     "name": "stdout",
     "output_type": "stream",
     "text": [
      " * sqlite:///TMDB-a-4006.db\n",
      "Done.\n"
     ]
    },
    {
     "data": {
      "text/html": [
       "<table>\n",
       "    <thead>\n",
       "        <tr>\n",
       "            <th>spider_contained_name_movies</th>\n",
       "        </tr>\n",
       "    </thead>\n",
       "    <tbody>\n",
       "        <tr>\n",
       "            <td>9</td>\n",
       "        </tr>\n",
       "    </tbody>\n",
       "</table>"
      ],
      "text/plain": [
       "[(9,)]"
      ]
     },
     "execution_count": 6,
     "metadata": {},
     "output_type": "execute_result"
    }
   ],
   "source": [
    "%%sql\n",
    "SELECT\n",
    "    COUNT(*) as spider_contained_name_movies\n",
    "FROM\n",
    "    movies\n",
    "WHERE\n",
    "    title LIKE '%Spider%'"
   ]
  },
  {
   "cell_type": "markdown",
   "id": "2f77c5bd",
   "metadata": {},
   "source": [
    "### Question 5\n",
    "\n",
    "How many movies are there that are both in the \"Thriller\" genre and contain the word “love” anywhere in the keywords?\n",
    "\n",
    "\n",
    "**Options:**\n",
    " - 48\n",
    " - 38\n",
    " - 14\n",
    " - 1"
   ]
  },
  {
   "cell_type": "code",
   "execution_count": 7,
   "id": "e81b8f8f-334d-40a0-87dd-a92c963679cb",
   "metadata": {},
   "outputs": [
    {
     "name": "stdout",
     "output_type": "stream",
     "text": [
      " * sqlite:///TMDB-a-4006.db\n",
      "Done.\n"
     ]
    },
    {
     "data": {
      "text/html": [
       "<table>\n",
       "    <thead>\n",
       "        <tr>\n",
       "            <th>COUNT(distinct(movies.movie_id))</th>\n",
       "        </tr>\n",
       "    </thead>\n",
       "    <tbody>\n",
       "        <tr>\n",
       "            <td>48</td>\n",
       "        </tr>\n",
       "    </tbody>\n",
       "</table>"
      ],
      "text/plain": [
       "[(48,)]"
      ]
     },
     "execution_count": 7,
     "metadata": {},
     "output_type": "execute_result"
    }
   ],
   "source": [
    "%%sql\n",
    "SELECT \n",
    "    COUNT(distinct(movies.movie_id))\n",
    "FROM\n",
    "    movies\n",
    " JOIN genremap ON genremap.movie_id = movies.movie_id\n",
    " JOIN genres ON genres.genre_id = genremap.genre_id\n",
    " JOIN keywordmap ON keywordmap.movie_id = movies.movie_id\n",
    " JOIN keywords ON keywords.keyword_id = keywordmap.keyword_id\n",
    "\n",
    "WHERE\n",
    "    genres.genre_name = 'Thriller' AND keywords.keyword_name LIKE '%love%'"
   ]
  },
  {
   "cell_type": "markdown",
   "id": "8c6e82eb",
   "metadata": {},
   "source": [
    "### Question 6\n",
    "\n",
    "How many movies are there that were released between 1 August 2006 ('2006-08-01') and 1 October 2009 ('2009-10-01') that have a popularity score of more than 40 and a budget of less than 50 000 000?\n",
    "\n",
    " \n",
    "**Options:**\n",
    "\n",
    " - 29\n",
    " - 23\n",
    " - 28\n",
    " - 35"
   ]
  },
  {
   "cell_type": "code",
   "execution_count": 8,
   "id": "e8de6542",
   "metadata": {},
   "outputs": [
    {
     "name": "stdout",
     "output_type": "stream",
     "text": [
      " * sqlite:///TMDB-a-4006.db\n",
      "Done.\n"
     ]
    },
    {
     "data": {
      "text/html": [
       "<table>\n",
       "    <thead>\n",
       "        <tr>\n",
       "            <th>count(title)</th>\n",
       "        </tr>\n",
       "    </thead>\n",
       "    <tbody>\n",
       "        <tr>\n",
       "            <td>29</td>\n",
       "        </tr>\n",
       "    </tbody>\n",
       "</table>"
      ],
      "text/plain": [
       "[(29,)]"
      ]
     },
     "execution_count": 8,
     "metadata": {},
     "output_type": "execute_result"
    }
   ],
   "source": [
    "%%sql\n",
    "\n",
    "SELECT\n",
    "    count(title)\n",
    "FROM\n",
    "    movies\n",
    "WHERE\n",
    "    date(release_date) BETWEEN '2006-08-01' AND '2009-10-01'\n",
    "AND popularity > 40\n",
    "AND budget < 50000000;"
   ]
  },
  {
   "cell_type": "markdown",
   "id": "cf0d12b1",
   "metadata": {},
   "source": [
    "### Question 7\n",
    "\n",
    "How many unique characters has \"Vin Diesel\" played so far in the database?\n",
    "\n",
    "**Options:**\n",
    " - 24\n",
    " - 19\n",
    " - 18\n",
    " - 16"
   ]
  },
  {
   "cell_type": "code",
   "execution_count": 9,
   "id": "cc1eecb5",
   "metadata": {},
   "outputs": [
    {
     "name": "stdout",
     "output_type": "stream",
     "text": [
      " * sqlite:///TMDB-a-4006.db\n",
      "Done.\n"
     ]
    },
    {
     "data": {
      "text/html": [
       "<table>\n",
       "    <thead>\n",
       "        <tr>\n",
       "            <th>title</th>\n",
       "            <th>actor_name</th>\n",
       "        </tr>\n",
       "    </thead>\n",
       "    <tbody>\n",
       "        <tr>\n",
       "            <td>The Fifth Element</td>\n",
       "            <td>Vin Diesel</td>\n",
       "        </tr>\n",
       "        <tr>\n",
       "            <td>Saving Private Ryan</td>\n",
       "            <td>Vin Diesel</td>\n",
       "        </tr>\n",
       "        <tr>\n",
       "            <td>Pitch Black</td>\n",
       "            <td>Vin Diesel</td>\n",
       "        </tr>\n",
       "        <tr>\n",
       "            <td>The Chronicles of Riddick</td>\n",
       "            <td>Vin Diesel</td>\n",
       "        </tr>\n",
       "        <tr>\n",
       "            <td>xXx</td>\n",
       "            <td>Vin Diesel</td>\n",
       "        </tr>\n",
       "        <tr>\n",
       "            <td>Knockaround Guys</td>\n",
       "            <td>Vin Diesel</td>\n",
       "        </tr>\n",
       "        <tr>\n",
       "            <td>A Man Apart</td>\n",
       "            <td>Vin Diesel</td>\n",
       "        </tr>\n",
       "        <tr>\n",
       "            <td>Babylon A.D.</td>\n",
       "            <td>Vin Diesel</td>\n",
       "        </tr>\n",
       "        <tr>\n",
       "            <td>The Fast and the Furious: Tokyo Drift</td>\n",
       "            <td>Vin Diesel</td>\n",
       "        </tr>\n",
       "        <tr>\n",
       "            <td>The Fast and the Furious</td>\n",
       "            <td>Vin Diesel</td>\n",
       "        </tr>\n",
       "        <tr>\n",
       "            <td>Find Me Guilty</td>\n",
       "            <td>Vin Diesel</td>\n",
       "        </tr>\n",
       "        <tr>\n",
       "            <td>The Pacifier</td>\n",
       "            <td>Vin Diesel</td>\n",
       "        </tr>\n",
       "        <tr>\n",
       "            <td>The Iron Giant</td>\n",
       "            <td>Vin Diesel</td>\n",
       "        </tr>\n",
       "        <tr>\n",
       "            <td>Boiler Room</td>\n",
       "            <td>Vin Diesel</td>\n",
       "        </tr>\n",
       "        <tr>\n",
       "            <td>Fast Five</td>\n",
       "            <td>Vin Diesel</td>\n",
       "        </tr>\n",
       "        <tr>\n",
       "            <td>Riddick</td>\n",
       "            <td>Vin Diesel</td>\n",
       "        </tr>\n",
       "        <tr>\n",
       "            <td>Guardians of the Galaxy</td>\n",
       "            <td>Vin Diesel</td>\n",
       "        </tr>\n",
       "        <tr>\n",
       "            <td>Furious 7</td>\n",
       "            <td>Vin Diesel</td>\n",
       "        </tr>\n",
       "        <tr>\n",
       "            <td>The Last Witch Hunter</td>\n",
       "            <td>Vin Diesel</td>\n",
       "        </tr>\n",
       "    </tbody>\n",
       "</table>"
      ],
      "text/plain": [
       "[('The Fifth Element', 'Vin Diesel'),\n",
       " ('Saving Private Ryan', 'Vin Diesel'),\n",
       " ('Pitch Black', 'Vin Diesel'),\n",
       " ('The Chronicles of Riddick', 'Vin Diesel'),\n",
       " ('xXx', 'Vin Diesel'),\n",
       " ('Knockaround Guys', 'Vin Diesel'),\n",
       " ('A Man Apart', 'Vin Diesel'),\n",
       " ('Babylon A.D.', 'Vin Diesel'),\n",
       " ('The Fast and the Furious: Tokyo Drift', 'Vin Diesel'),\n",
       " ('The Fast and the Furious', 'Vin Diesel'),\n",
       " ('Find Me Guilty', 'Vin Diesel'),\n",
       " ('The Pacifier', 'Vin Diesel'),\n",
       " ('The Iron Giant', 'Vin Diesel'),\n",
       " ('Boiler Room', 'Vin Diesel'),\n",
       " ('Fast Five', 'Vin Diesel'),\n",
       " ('Riddick', 'Vin Diesel'),\n",
       " ('Guardians of the Galaxy', 'Vin Diesel'),\n",
       " ('Furious 7', 'Vin Diesel'),\n",
       " ('The Last Witch Hunter', 'Vin Diesel')]"
      ]
     },
     "execution_count": 9,
     "metadata": {},
     "output_type": "execute_result"
    }
   ],
   "source": [
    "%%sql\n",
    "\n",
    "SELECT\n",
    "    movies.title,\n",
    "    actors.actor_name\n",
    "FROM movies\n",
    "JOIN casts ON casts.movie_id = movies.movie_id\n",
    "JOIN actors ON actors.actor_id = casts.actor_id\n",
    "WHERE actor_name = 'Vin Diesel';"
   ]
  },
  {
   "cell_type": "markdown",
   "id": "297fc8b8",
   "metadata": {},
   "source": [
    "### Question 8\n",
    "\n",
    "What are the genres of the movie “The Royal Tenenbaums”?\n",
    "\n",
    "\n",
    "**Options:**\n",
    " - Action, Romance\n",
    " - Drama, Comedy\n",
    " - Crime, Thriller\n",
    " - Drama, Romance"
   ]
  },
  {
   "cell_type": "code",
   "execution_count": 10,
   "id": "e2ad1e00",
   "metadata": {},
   "outputs": [
    {
     "name": "stdout",
     "output_type": "stream",
     "text": [
      " * sqlite:///TMDB-a-4006.db\n",
      "Done.\n"
     ]
    },
    {
     "data": {
      "text/html": [
       "<table>\n",
       "    <thead>\n",
       "        <tr>\n",
       "            <th>title</th>\n",
       "            <th>movie_id</th>\n",
       "            <th>genre_id</th>\n",
       "            <th>genre_name</th>\n",
       "        </tr>\n",
       "    </thead>\n",
       "    <tbody>\n",
       "        <tr>\n",
       "            <td>The Royal Tenenbaums</td>\n",
       "            <td>9428</td>\n",
       "            <td>18</td>\n",
       "            <td>Drama</td>\n",
       "        </tr>\n",
       "        <tr>\n",
       "            <td>The Royal Tenenbaums</td>\n",
       "            <td>9428</td>\n",
       "            <td>35</td>\n",
       "            <td>Comedy</td>\n",
       "        </tr>\n",
       "    </tbody>\n",
       "</table>"
      ],
      "text/plain": [
       "[('The Royal Tenenbaums', 9428, 18, 'Drama'),\n",
       " ('The Royal Tenenbaums', 9428, 35, 'Comedy')]"
      ]
     },
     "execution_count": 10,
     "metadata": {},
     "output_type": "execute_result"
    }
   ],
   "source": [
    "%%sql\n",
    "\n",
    "SELECT\n",
    "    m.title,\n",
    "    m.movie_id,\n",
    "    gm.genre_id,\n",
    "    g.genre_name\n",
    "FROM\n",
    "    movies as m\n",
    "JOIN genremap as gm ON gm.movie_id = m.movie_id\n",
    "JOIN genres as g ON g.genre_id = gm.genre_id\n",
    "WHERE title = 'The Royal Tenenbaums'"
   ]
  },
  {
   "cell_type": "markdown",
   "id": "d3ed71a0",
   "metadata": {},
   "source": [
    "### Question 9\n",
    "\n",
    "What are the three production companies that have the highest movie popularity score on average, as recorded within the database?\n",
    "\n",
    "\n",
    "**Options:**\n",
    "\n",
    " - MCL Films S.A., Turner Pictures, and George Stevens Productions\n",
    " - The Donners' Company, Bulletproof Cupid, and Kinberg Genre\n",
    " - Bulletproof Cupid, The Donners' Company, and MCL Films S.A\n",
    " - B.Sting Entertainment, Illumination Pictures, and Aztec Musique"
   ]
  },
  {
   "cell_type": "code",
   "execution_count": 11,
   "id": "92d65440",
   "metadata": {},
   "outputs": [
    {
     "name": "stdout",
     "output_type": "stream",
     "text": [
      " * sqlite:///TMDB-a-4006.db\n",
      "Done.\n"
     ]
    },
    {
     "data": {
      "text/html": [
       "<table>\n",
       "    <thead>\n",
       "        <tr>\n",
       "            <th>production_company_name</th>\n",
       "            <th>avg_pop</th>\n",
       "        </tr>\n",
       "    </thead>\n",
       "    <tbody>\n",
       "        <tr>\n",
       "            <td>The Donners&#x27; Company</td>\n",
       "            <td>514.569956</td>\n",
       "        </tr>\n",
       "        <tr>\n",
       "            <td>Bulletproof Cupid</td>\n",
       "            <td>481.098624</td>\n",
       "        </tr>\n",
       "        <tr>\n",
       "            <td>Kinberg Genre</td>\n",
       "            <td>326.92099900000005</td>\n",
       "        </tr>\n",
       "    </tbody>\n",
       "</table>"
      ],
      "text/plain": [
       "[(\"The Donners' Company\", 514.569956),\n",
       " ('Bulletproof Cupid', 481.098624),\n",
       " ('Kinberg Genre', 326.92099900000005)]"
      ]
     },
     "execution_count": 11,
     "metadata": {},
     "output_type": "execute_result"
    }
   ],
   "source": [
    "%%sql\n",
    "\n",
    "SELECT\n",
    "    pcom.production_company_name,\n",
    "    avg(m.popularity) as avg_pop\n",
    "FROM\n",
    "    movies as m\n",
    "JOIN productioncompanymap as pmap ON pmap.movie_id = m.movie_id\n",
    "JOIN productioncompanies as pcom ON pcom.production_company_id = pmap.production_company_id\n",
    "GROUP BY production_company_name\n",
    "ORDER BY avg_pop DESC\n",
    "LIMIT 3;"
   ]
  },
  {
   "cell_type": "markdown",
   "id": "d892dcac",
   "metadata": {},
   "source": [
    "### Question 10\n",
    "\n",
    "How many female actors (i.e. gender = 1) have a name that starts with the letter \"N\"?\n",
    "\n",
    "\n",
    "**Options:**\n",
    "\n",
    " - 0\n",
    " - 355\n",
    " - 7335\n",
    " - 1949"
   ]
  },
  {
   "cell_type": "code",
   "execution_count": 12,
   "id": "4bca2942",
   "metadata": {},
   "outputs": [
    {
     "name": "stdout",
     "output_type": "stream",
     "text": [
      " * sqlite:///TMDB-a-4006.db\n",
      "Done.\n"
     ]
    },
    {
     "data": {
      "text/html": [
       "<table>\n",
       "    <thead>\n",
       "        <tr>\n",
       "            <th>count(actor_name)</th>\n",
       "        </tr>\n",
       "    </thead>\n",
       "    <tbody>\n",
       "        <tr>\n",
       "            <td>355</td>\n",
       "        </tr>\n",
       "    </tbody>\n",
       "</table>"
      ],
      "text/plain": [
       "[(355,)]"
      ]
     },
     "execution_count": 12,
     "metadata": {},
     "output_type": "execute_result"
    }
   ],
   "source": [
    "%%sql\n",
    "SELECT\n",
    "    count(actor_name)\n",
    "FROM\n",
    "    actors\n",
    "WHERE gender = 1 AND actor_name LIKE 'N%'"
   ]
  },
  {
   "cell_type": "markdown",
   "id": "7ea65b50",
   "metadata": {},
   "source": [
    "### Question 11\n",
    "\n",
    "Which genre has, on average, the lowest movie popularity score? \n",
    "\n",
    "\n",
    "**Options:**\n",
    "\n",
    " - Science Fiction\n",
    " - Animation\n",
    " - Documentary\n",
    " - Foreign"
   ]
  },
  {
   "cell_type": "code",
   "execution_count": 13,
   "id": "e3a55c56",
   "metadata": {},
   "outputs": [
    {
     "name": "stdout",
     "output_type": "stream",
     "text": [
      " * sqlite:///TMDB-a-4006.db\n",
      "Done.\n"
     ]
    },
    {
     "data": {
      "text/html": [
       "<table>\n",
       "    <thead>\n",
       "        <tr>\n",
       "            <th>genre_name</th>\n",
       "            <th>avg_pop</th>\n",
       "        </tr>\n",
       "    </thead>\n",
       "    <tbody>\n",
       "        <tr>\n",
       "            <td>Foreign</td>\n",
       "            <td>0.686786794117647</td>\n",
       "        </tr>\n",
       "    </tbody>\n",
       "</table>"
      ],
      "text/plain": [
       "[('Foreign', 0.686786794117647)]"
      ]
     },
     "execution_count": 13,
     "metadata": {},
     "output_type": "execute_result"
    }
   ],
   "source": [
    "%%sql\n",
    "SELECT\n",
    "    g.genre_name,\n",
    "    avg(m.popularity) as avg_pop\n",
    "FROM\n",
    "    genres as g\n",
    "JOIN genremap as gm ON gm.genre_id = g.genre_id\n",
    "JOIN movies as m ON m.movie_id = gm.movie_id\n",
    "GROUP BY g.genre_name\n",
    "ORDER BY avg_pop ASC\n",
    "LIMIT 1;"
   ]
  },
  {
   "cell_type": "markdown",
   "id": "3769de93",
   "metadata": {},
   "source": [
    "### Question 12\n",
    "\n",
    "Which award category has the highest number of actor nominations (actors can be male or female)? (Hint: `Oscars.name` contains both actors' names and film names.)\n",
    "\n",
    "**Options:**\n",
    "\n",
    "- Special Achievement Award\n",
    "- Actor in a Supporting Role\n",
    "- Actress in a Supporting Role\n",
    "- Best Picture\n",
    "\n"
   ]
  },
  {
   "cell_type": "code",
   "execution_count": 14,
   "id": "344b9f0d-a1df-4aed-ba26-d9190d0aad57",
   "metadata": {},
   "outputs": [
    {
     "name": "stdout",
     "output_type": "stream",
     "text": [
      " * sqlite:///TMDB-a-4006.db\n",
      "Done.\n"
     ]
    },
    {
     "data": {
      "text/html": [
       "<table>\n",
       "    <thead>\n",
       "        <tr>\n",
       "            <th>year</th>\n",
       "            <th>award</th>\n",
       "            <th>winner</th>\n",
       "            <th>name</th>\n",
       "            <th>film</th>\n",
       "        </tr>\n",
       "    </thead>\n",
       "    <tbody>\n",
       "        <tr>\n",
       "            <td>1936</td>\n",
       "            <td>Actor in a Supporting Role</td>\n",
       "            <td>None</td>\n",
       "            <td>Mischa Auer</td>\n",
       "            <td>My Man Godfrey</td>\n",
       "        </tr>\n",
       "        <tr>\n",
       "            <td>1936</td>\n",
       "            <td>Actor in a Supporting Role</td>\n",
       "            <td>1.0</td>\n",
       "            <td>Walter Brennan</td>\n",
       "            <td>Come and Get It</td>\n",
       "        </tr>\n",
       "        <tr>\n",
       "            <td>1936</td>\n",
       "            <td>Actor in a Supporting Role</td>\n",
       "            <td>None</td>\n",
       "            <td>Stuart Erwin</td>\n",
       "            <td>Pigskin Parade</td>\n",
       "        </tr>\n",
       "        <tr>\n",
       "            <td>1936</td>\n",
       "            <td>Actor in a Supporting Role</td>\n",
       "            <td>None</td>\n",
       "            <td>Basil Rathbone</td>\n",
       "            <td>Romeo and Juliet</td>\n",
       "        </tr>\n",
       "        <tr>\n",
       "            <td>1936</td>\n",
       "            <td>Actor in a Supporting Role</td>\n",
       "            <td>None</td>\n",
       "            <td>Akim Tamiroff</td>\n",
       "            <td>The General Died at Dawn</td>\n",
       "        </tr>\n",
       "        <tr>\n",
       "            <td>1936</td>\n",
       "            <td>Actress in a Supporting Role</td>\n",
       "            <td>None</td>\n",
       "            <td>Beulah Bondi</td>\n",
       "            <td>The Gorgeous Hussy</td>\n",
       "        </tr>\n",
       "        <tr>\n",
       "            <td>1936</td>\n",
       "            <td>Actress in a Supporting Role</td>\n",
       "            <td>None</td>\n",
       "            <td>Alice Brady</td>\n",
       "            <td>My Man Godfrey</td>\n",
       "        </tr>\n",
       "        <tr>\n",
       "            <td>1936</td>\n",
       "            <td>Actress in a Supporting Role</td>\n",
       "            <td>None</td>\n",
       "            <td>Bonita Granville</td>\n",
       "            <td>These Three</td>\n",
       "        </tr>\n",
       "        <tr>\n",
       "            <td>1936</td>\n",
       "            <td>Actress in a Supporting Role</td>\n",
       "            <td>None</td>\n",
       "            <td>Maria Ouspenskaya</td>\n",
       "            <td>Dodsworth</td>\n",
       "        </tr>\n",
       "        <tr>\n",
       "            <td>1936</td>\n",
       "            <td>Actress in a Supporting Role</td>\n",
       "            <td>1.0</td>\n",
       "            <td>Gale Sondergaard</td>\n",
       "            <td>Anthony Adverse</td>\n",
       "        </tr>\n",
       "    </tbody>\n",
       "</table>"
      ],
      "text/plain": [
       "[('1936', 'Actor in a Supporting Role', None, 'Mischa Auer', 'My Man Godfrey'),\n",
       " ('1936', 'Actor in a Supporting Role', '1.0', 'Walter Brennan', 'Come and Get It'),\n",
       " ('1936', 'Actor in a Supporting Role', None, 'Stuart Erwin', 'Pigskin Parade'),\n",
       " ('1936', 'Actor in a Supporting Role', None, 'Basil Rathbone', 'Romeo and Juliet'),\n",
       " ('1936', 'Actor in a Supporting Role', None, 'Akim Tamiroff', 'The General Died at Dawn'),\n",
       " ('1936', 'Actress in a Supporting Role', None, 'Beulah Bondi', 'The Gorgeous Hussy'),\n",
       " ('1936', 'Actress in a Supporting Role', None, 'Alice Brady', 'My Man Godfrey'),\n",
       " ('1936', 'Actress in a Supporting Role', None, 'Bonita Granville', 'These Three'),\n",
       " ('1936', 'Actress in a Supporting Role', None, 'Maria Ouspenskaya', 'Dodsworth'),\n",
       " ('1936', 'Actress in a Supporting Role', '1.0', 'Gale Sondergaard', 'Anthony Adverse')]"
      ]
     },
     "execution_count": 14,
     "metadata": {},
     "output_type": "execute_result"
    }
   ],
   "source": [
    "%%sql\n",
    "SELECT\n",
    "    *\n",
    "FROM\n",
    "    oscars\n",
    "WHERE award IN ('Special Achievement Award', 'Actor in a Supporting Role', 'Actress in a Supporting Role', 'Best Picture')\n",
    "LIMIT 10;"
   ]
  },
  {
   "cell_type": "code",
   "execution_count": 15,
   "id": "e3943f72",
   "metadata": {},
   "outputs": [
    {
     "name": "stdout",
     "output_type": "stream",
     "text": [
      " * sqlite:///TMDB-a-4006.db\n",
      "Done.\n"
     ]
    },
    {
     "data": {
      "text/html": [
       "<table>\n",
       "    <thead>\n",
       "        <tr>\n",
       "            <th>award</th>\n",
       "            <th>count</th>\n",
       "        </tr>\n",
       "    </thead>\n",
       "    <tbody>\n",
       "        <tr>\n",
       "            <td>Actor in a Supporting Role</td>\n",
       "            <td>309</td>\n",
       "        </tr>\n",
       "        <tr>\n",
       "            <td>Actress in a Supporting Role</td>\n",
       "            <td>306</td>\n",
       "        </tr>\n",
       "        <tr>\n",
       "            <td>Best Picture</td>\n",
       "            <td>298</td>\n",
       "        </tr>\n",
       "        <tr>\n",
       "            <td>Special Achievement Award</td>\n",
       "            <td>3</td>\n",
       "        </tr>\n",
       "    </tbody>\n",
       "</table>"
      ],
      "text/plain": [
       "[('Actor in a Supporting Role', 309),\n",
       " ('Actress in a Supporting Role', 306),\n",
       " ('Best Picture', 298),\n",
       " ('Special Achievement Award', 3)]"
      ]
     },
     "execution_count": 15,
     "metadata": {},
     "output_type": "execute_result"
    }
   ],
   "source": [
    "%%sql\n",
    "SELECT\n",
    "    award,\n",
    "    count(distinct(name)) as count\n",
    "FROM oscars\n",
    "WHERE award IN ('Special Achievement Award', 'Actor in a Supporting Role', 'Actress in a Supporting Role', 'Best Picture')\n",
    "GROUP BY award\n",
    "ORDER BY count desc;"
   ]
  },
  {
   "cell_type": "markdown",
   "id": "c80a7c0c",
   "metadata": {},
   "source": [
    "### Question 13\n",
    "\n",
    "For all of the entries in the Oscars table before 1934, the year is stored differently than in all the subsequent years. For example, the year would be saved as “1932/1933” instead of just “1933” (the second indicated year).  Which of the following options would be the appropriate code to update this column to have the format of the year be consistent throughout the entire table (second indicated year only shown)?\n",
    "\n",
    "\n",
    "**Options:**\n",
    "\n",
    "- `UPDATE Oscars SET year = RIGHT(year, -4)`\n",
    "- `UPDATE Oscars SET year = SELECT substr(year, -4)`\n",
    "- `UPDATE Oscars SET year = substr(year, -4)`\n",
    "- `UPDATE Oscars year =  substr(year, 4)`"
   ]
  },
  {
   "cell_type": "markdown",
   "id": "a7d73885",
   "metadata": {},
   "source": [
    "### Question 14\n",
    "\n",
    "DStv will be having a special week dedicated to the actor Alan Rickman. Which of the following queries would create a new _view_ that shows the titles, release dates, taglines, and overviews of all movies that Alan Rickman has played in?\n",
    "\n",
    "\n",
    "\n",
    "**Options:**\n",
    "\n",
    "- SELECT title, release_date, tagline, overview \n",
    "FROM Movies LEFT JOIN Casts ON Casts.movie_id = Movies.movie_id Left JOIN Actors ON Casts.actor_id = Actors.actor_id \n",
    "WHERE Actors.actor_name = 'Alan Rickman'\n",
    "AS VIEW Alan_Rickman_Movies\n",
    "\n",
    "- CREATE VIEW Alan_Rickman_Movies AS  \n",
    "SELECT title, release_date, tagline, overview FROM Movies  \n",
    "LEFT JOIN Casts ON Casts.movie_id = Movies.movie_id Left JOIN Actors\n",
    "ON Casts.actor_id = Actors.actor_id\n",
    "WHERE Actors.actor_name = 'Alan Rickman' \n",
    "\n",
    "\n",
    "- CREATE NEW VIEW  Name  = Alan_Rickman_Movies AS SELECT title, release_date, tagline, overview FROM Movies LEFT JOIN Casts ON Casts.movie_id = Movies.movie_id Left JOIN Actors ON Casts.actor_id = Actors.actor_id WHERE Actors.actor_name = 'Alan Rickman'\n",
    "\n",
    "- VIEW Alan_Rickman_Movies AS SELECT title, release_date, tagline, overview FROM Movies LEFT JOIN Casts ON Casts.movie_id = Movies.movie_id Left JOIN Actors ON Casts.actor_id = Actors.actor_id WHERE Actors.actor_name = 'Alan Rickman'"
   ]
  },
  {
   "cell_type": "code",
   "execution_count": 16,
   "id": "f9b82bc6",
   "metadata": {},
   "outputs": [
    {
     "name": "stdout",
     "output_type": "stream",
     "text": [
      " * sqlite:///TMDB-a-4006.db\n",
      "(sqlite3.OperationalError) view Alan_Rickman_Movies already exists\n",
      "[SQL: CREATE VIEW Alan_Rickman_Movies AS\n",
      "SELECT title, release_date, tagline, overview FROM Movies\n",
      "LEFT JOIN Casts ON Casts.movie_id = Movies.movie_id Left JOIN Actors ON Casts.actor_id = Actors.actor_id WHERE Actors.actor_name = 'Alan Rickman']\n",
      "(Background on this error at: http://sqlalche.me/e/14/e3q8)\n"
     ]
    }
   ],
   "source": [
    "%%sql\n",
    "\n",
    "CREATE VIEW Alan_Rickman_Movies AS\n",
    "SELECT title, release_date, tagline, overview FROM Movies\n",
    "LEFT JOIN Casts ON Casts.movie_id = Movies.movie_id Left JOIN Actors ON Casts.actor_id = Actors.actor_id WHERE Actors.actor_name = 'Alan Rickman'"
   ]
  },
  {
   "cell_type": "markdown",
   "id": "42e9915e",
   "metadata": {},
   "source": [
    "### Question 15\n",
    "\n",
    "Which of the statements about database normalisation are true?\n",
    "\n",
    "**Statements:**\n",
    " \n",
    "i) Database normalisation improves data redundancy, saves on storage space, and fulfils the requirement of records to be uniquely identified.\n",
    "\n",
    "ii) Database normalisation supports up to the Third Normal Form and removes all data anomalies.\n",
    "\n",
    "iii) Database normalisation removes inconsistencies that may cause the analysis of our data to be more complicated.\n",
    "\n",
    "iv) Database normalisation increases data redundancy, saves on storage space, and fulfils the requirement of records to be uniquely identified.\n",
    "\n",
    "**Options:**\n",
    "\n",
    " - (i) and (ii)\n",
    " - (i) and (iii)\n",
    " - (ii) and (iv)\n",
    " - (iii) and (iv)"
   ]
  },
  {
   "cell_type": "markdown",
   "id": "26fd094b-0fee-46f1-a4b8-73766813c42b",
   "metadata": {
    "tags": []
   },
   "source": [
    "#  \n",
    "\n",
    "<div align=\"center\" style=\" font-size: 80%; text-align: center; margin: 0 auto\">\n",
    "<img src=\"https://raw.githubusercontent.com/Explore-AI/Pictures/master/ExploreAI_logos/EAI_Blue_Dark.png\"  style=\"width:200px\";/>\n",
    "</div>"
   ]
  }
 ],
 "metadata": {
  "kernelspec": {
   "display_name": "Python 3 (ipykernel)",
   "language": "python",
   "name": "python3"
  },
  "language_info": {
   "codemirror_mode": {
    "name": "ipython",
    "version": 3
   },
   "file_extension": ".py",
   "mimetype": "text/x-python",
   "name": "python",
   "nbconvert_exporter": "python",
   "pygments_lexer": "ipython3",
   "version": "3.10.14"
  }
 },
 "nbformat": 4,
 "nbformat_minor": 5
}
